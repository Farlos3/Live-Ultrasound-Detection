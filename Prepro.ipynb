{
 "cells": [
  {
   "cell_type": "code",
   "execution_count": 1,
   "id": "b8fd9e8e-8804-4777-bd68-9761410c97d8",
   "metadata": {},
   "outputs": [],
   "source": [
    "import cv2\n",
    "import os\n",
    "import numpy as np\n",
    "from matplotlib import pyplot as plt\n",
    "from ultralytics import YOLO\n",
    "from tqdm import tqdm"
   ]
  },
  {
   "cell_type": "code",
   "execution_count": 2,
   "id": "dc7d5014-3482-4df4-9bb9-4f8e4ef72cc0",
   "metadata": {},
   "outputs": [],
   "source": [
    "# Define the Butterworth low-pass filter function\n",
    "def apply_dft_butterworth_filter(image, d0=100, n=2):\n",
    "    # Perform DFT on each color channel\n",
    "    channels = cv2.split(image)\n",
    "    filtered_channels = []\n",
    "    \n",
    "    for channel in channels:\n",
    "        # Perform DFT\n",
    "        dft = cv2.dft(np.float32(channel), flags=cv2.DFT_COMPLEX_OUTPUT)\n",
    "        dft_shift = np.fft.fftshift(dft)\n",
    "        \n",
    "        # Create Butterworth low-pass filter mask\n",
    "        rows, cols = channel.shape\n",
    "        crow, ccol = rows // 2, cols // 2\n",
    "        mask = np.zeros((rows, cols, 2), np.float32)\n",
    "        for u in range(rows):\n",
    "            for v in range(cols):\n",
    "                dist = np.sqrt((u - crow)**2 + (v - ccol)**2)\n",
    "                mask[u, v] = 1 / (1 + (dist / d0)**(2 * n))\n",
    "        \n",
    "        # Apply mask and inverse DFT\n",
    "        fshift = dft_shift * mask\n",
    "        f_ishift = np.fft.ifftshift(fshift)\n",
    "        img_back = cv2.idft(f_ishift)\n",
    "        img_back = cv2.magnitude(img_back[:,:,0], img_back[:,:,1])\n",
    "        \n",
    "        # Normalize the result\n",
    "        cv2.normalize(img_back, img_back, 0, 255, cv2.NORM_MINMAX)\n",
    "        filtered_channels.append(np.uint8(img_back))\n",
    "    \n",
    "    # Merge the filtered channels back\n",
    "    filtered_image = cv2.merge(filtered_channels)\n",
    "    \n",
    "    return filtered_image"
   ]
  },
  {
   "cell_type": "code",
   "execution_count": null,
   "id": "337bcddb-58ef-4083-8b97-86dc7701e4f9",
   "metadata": {},
   "outputs": [
    {
     "name": "stderr",
     "output_type": "stream",
     "text": [
      "Processing images:  89%|████████▉ | 460/516 [5:56:10<48:18, 51.76s/it]  "
     ]
    }
   ],
   "source": [
    "# Define the paths\n",
    "input_folder = 'datasets/Liver_Ultrasound_Detection_data/liver-ultrasound-detection-unzip/images/subsets/subset_1'\n",
    "output_folder = 'datasets/Liver_Ultrasound_Detection_data/liver-ultrasound-detection-unzip/images/subsets/Prepro'\n",
    "\n",
    "# Create output directory if it doesn't exist\n",
    "if not os.path.exists(output_folder):\n",
    "    os.makedirs(output_folder)\n",
    "\n",
    "# Get a list of all image files in the input folder\n",
    "image_files = [f for f in os.listdir(input_folder) if f.endswith('.jpg')]  # Add other extensions if needed\n",
    "\n",
    "# Process each image in the input folder\n",
    "for filename in tqdm(image_files, desc=\"Processing images\"):\n",
    "    image_path = os.path.join(input_folder, filename)\n",
    "    img = cv2.imread(image_path)\n",
    "\n",
    "    # Apply Butterworth filter to remove Moiré patterns\n",
    "    filtered_img = apply_dft_butterworth_filter(img, d0=125, n=2)  # Adjust d0 and n as needed\n",
    "\n",
    "    # Convert the filtered image to grayscale\n",
    "    grayimg = cv2.cvtColor(filtered_img, cv2.COLOR_BGR2GRAY)\n",
    "\n",
    "    # Normalize the image\n",
    "    arr_normalized = cv2.normalize(grayimg, None, 0, 255, cv2.NORM_MINMAX)\n",
    "    arr_normalized = arr_normalized.astype(np.uint8)\n",
    "\n",
    "    # Save preprocessed image to output folder\n",
    "    output_path = os.path.join(output_folder, filename)\n",
    "    cv2.imwrite(output_path, arr_normalized)"
   ]
  },
  {
   "cell_type": "code",
   "execution_count": null,
   "id": "372ad12c-e2cb-4a96-91bf-01f75b56b0be",
   "metadata": {},
   "outputs": [],
   "source": []
  }
 ],
 "metadata": {
  "kernelspec": {
   "display_name": "Python 3 (ipykernel)",
   "language": "python",
   "name": "python3"
  },
  "language_info": {
   "codemirror_mode": {
    "name": "ipython",
    "version": 3
   },
   "file_extension": ".py",
   "mimetype": "text/x-python",
   "name": "python",
   "nbconvert_exporter": "python",
   "pygments_lexer": "ipython3",
   "version": "3.10.14"
  }
 },
 "nbformat": 4,
 "nbformat_minor": 5
}
